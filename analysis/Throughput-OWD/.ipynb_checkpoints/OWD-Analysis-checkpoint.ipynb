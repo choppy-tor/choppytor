{
 "cells": [
  {
   "cell_type": "code",
   "execution_count": 6,
   "id": "affb8abd-0175-4de5-9bf8-d352a3274f00",
   "metadata": {},
   "outputs": [
    {
     "name": "stderr",
     "output_type": "stream",
     "text": [
      "Calls processed: 100%|███████████████████| 23471/23471 [02:26<00:00, 160.49it/s]"
     ]
    },
    {
     "name": "stdout",
     "output_type": "stream",
     "text": [
      "✔  Per-call statistics written to owd_call_stats.csv\n"
     ]
    },
    {
     "name": "stderr",
     "output_type": "stream",
     "text": [
      "\n"
     ]
    }
   ],
   "source": [
    "import os\n",
    "from pathlib import Path\n",
    "from concurrent.futures import ThreadPoolExecutor, as_completed\n",
    "\n",
    "import pandas as pd\n",
    "import numpy as np\n",
    "from tqdm import tqdm\n",
    "\n",
    "# ---------------------------------------------------------------------\n",
    "# CONFIGURATION\n",
    "# ---------------------------------------------------------------------\n",
    "BASE_DIR      = Path(\"../data/owd/tor/\")   # top-level folder\n",
    "MAX_WORKERS   = 8                                   # tune to your CPU\n",
    "REMOVE_OUTLIERS = True                              # toggle IQR filtering\n",
    "OUT_CSV       = \"owd_call_stats.csv\"                # summary output file\n",
    "\n",
    "# ---------------------------------------------------------------------\n",
    "# Helper: compute stats for one numeric array\n",
    "# ---------------------------------------------------------------------\n",
    "def compute_stats(values, remove_outliers=REMOVE_OUTLIERS):\n",
    "    values = np.asarray(values, dtype=float)\n",
    "\n",
    "    if remove_outliers and values.size:\n",
    "        q1, q3 = np.percentile(values, [25, 75])\n",
    "        iqr = q3 - q1\n",
    "        low  = q1 - 1.5 * iqr\n",
    "        high = q3 + 1.5 * iqr\n",
    "        values = values[(values >= low) & (values <= high)]\n",
    "\n",
    "    if values.size == 0:\n",
    "        return dict(count=0, mean=np.nan, std=np.nan, p99=np.nan)\n",
    "\n",
    "    return dict(\n",
    "        count=int(values.size),\n",
    "        mean =float(values.mean()),\n",
    "        std  =float(values.std()),\n",
    "        p99  =float(np.percentile(values, 99))\n",
    "    )\n",
    "\n",
    "# ---------------------------------------------------------------------\n",
    "# Worker: process one CSV file and return two rows of stats\n",
    "# ---------------------------------------------------------------------\n",
    "def process_file(file_path):\n",
    "    try:\n",
    "        df = pd.read_csv(\n",
    "            file_path,\n",
    "            sep=r\"\\s+\",                # works for tabs or spaces\n",
    "            names=[\"seq\", \"owd_ms\"],\n",
    "            header=None,\n",
    "            engine=\"python\"\n",
    "        )\n",
    "        df[\"owd_ms\"] = pd.to_numeric(df[\"owd_ms\"], errors=\"coerce\").dropna()\n",
    "\n",
    "        caller    = df[df[\"owd_ms\"] > 0][\"owd_ms\"].values\n",
    "        callee    = np.abs(df[df[\"owd_ms\"] < 0][\"owd_ms\"].values)\n",
    "\n",
    "        stats_caller = compute_stats(caller)\n",
    "        stats_callee = compute_stats(callee)\n",
    "\n",
    "        # File name minus extension is a convenient call-id\n",
    "        call_id = Path(file_path).stem\n",
    "\n",
    "        row_caller = {\n",
    "            \"call_id\": call_id,\n",
    "            \"direction\": \"caller→callee\",\n",
    "            **stats_caller\n",
    "        }\n",
    "        row_callee = {\n",
    "            \"call_id\": call_id,\n",
    "            \"direction\": \"callee→caller\",\n",
    "            **stats_callee\n",
    "        }\n",
    "        return [row_caller, row_callee]\n",
    "\n",
    "    except Exception as e:\n",
    "        print(f\"Failed to process {file_path}: {e}\")\n",
    "        return []\n",
    "\n",
    "# ---------------------------------------------------------------------\n",
    "# Gather all CSVs and crunch in parallel\n",
    "# ---------------------------------------------------------------------\n",
    "all_csv = [\n",
    "    os.path.join(root, f)\n",
    "    for root, _, files in os.walk(BASE_DIR)\n",
    "    for f in files if f.endswith(\".csv\")\n",
    "]\n",
    "\n",
    "rows = []\n",
    "with ThreadPoolExecutor(max_workers=MAX_WORKERS) as ex:\n",
    "    futures = {ex.submit(process_file, fp): fp for fp in all_csv}\n",
    "    for fut in tqdm(as_completed(futures), total=len(futures), desc=\"Calls processed\"):\n",
    "        rows.extend(fut.result())\n",
    "\n",
    "# ---------------------------------------------------------------------\n",
    "# Save summary to CSV\n",
    "# ---------------------------------------------------------------------\n",
    "summary_df = pd.DataFrame(rows)\n",
    "summary_df.to_csv(OUT_CSV, index=False)\n",
    "print(f\"✔  Per-call statistics written to {OUT_CSV}\")\n"
   ]
  },
  {
   "cell_type": "code",
   "execution_count": null,
   "id": "a91baa5a-1169-4030-9efd-3e2a0f8e37bd",
   "metadata": {},
   "outputs": [],
   "source": []
  }
 ],
 "metadata": {
  "kernelspec": {
   "display_name": "Python 3 (ipykernel)",
   "language": "python",
   "name": "python3"
  },
  "language_info": {
   "codemirror_mode": {
    "name": "ipython",
    "version": 3
   },
   "file_extension": ".py",
   "mimetype": "text/x-python",
   "name": "python",
   "nbconvert_exporter": "python",
   "pygments_lexer": "ipython3",
   "version": "3.12.2"
  }
 },
 "nbformat": 4,
 "nbformat_minor": 5
}
