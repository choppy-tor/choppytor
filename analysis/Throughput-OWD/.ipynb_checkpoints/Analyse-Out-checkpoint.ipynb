{
 "cells": [
  {
   "cell_type": "code",
   "execution_count": 1,
   "id": "c23756a5-a0eb-4abf-ac26-71c75e6ffd20",
   "metadata": {},
   "outputs": [],
   "source": [
    "# Cell 1 ──────────────────────────────────────────────────────────\n",
    "import numpy as np\n",
    "import pandas as pd\n",
    "from pathlib import Path\n",
    "from tqdm.notebook import tqdm\n",
    "import matplotlib.pyplot as plt\n",
    "\n",
    "plt.rcParams.update({\n",
    "    \"figure.figsize\": (6, 3),\n",
    "    \"font.size\": 11,\n",
    "})\n"
   ]
  },
  {
   "cell_type": "code",
   "execution_count": 2,
   "id": "00bd81f2-48db-4de7-b373-4e7e9fbedb16",
   "metadata": {},
   "outputs": [],
   "source": [
    "# Cell 2 ──────────────────────────────────────────────────────────\n",
    "def drop_outlier_calls(df, column=\"p99\"):\n",
    "    \"\"\"\n",
    "    Remove calls whose per-call p99 is an outlier\n",
    "    (outside Q1 ± 1.5 × IQR). Returns the cleaned DataFrame and\n",
    "    the percentage of calls removed.\n",
    "    \"\"\"\n",
    "    series = df[column].dropna()\n",
    "    q1, q3 = np.percentile(series, [25, 75])\n",
    "    iqr = q3 - q1\n",
    "    low, high = q1 - 1.5 * iqr, q3 + 1.5 * iqr\n",
    "    mask = series.between(low, high)\n",
    "    pct_removed = 100 * (~mask).mean()\n",
    "    return df.loc[mask], pct_removed\n"
   ]
  },
  {
   "cell_type": "code",
   "execution_count": 4,
   "id": "eb775fa3-769f-473f-a110-e3ff446e9133",
   "metadata": {},
   "outputs": [
    {
     "data": {
      "text/html": [
       "<div>\n",
       "<style scoped>\n",
       "    .dataframe tbody tr th:only-of-type {\n",
       "        vertical-align: middle;\n",
       "    }\n",
       "\n",
       "    .dataframe tbody tr th {\n",
       "        vertical-align: top;\n",
       "    }\n",
       "\n",
       "    .dataframe thead th {\n",
       "        text-align: right;\n",
       "    }\n",
       "</style>\n",
       "<table border=\"1\" class=\"dataframe\">\n",
       "  <thead>\n",
       "    <tr style=\"text-align: right;\">\n",
       "      <th></th>\n",
       "      <th>call_id</th>\n",
       "      <th>direction</th>\n",
       "      <th>count</th>\n",
       "      <th>mean</th>\n",
       "      <th>std</th>\n",
       "      <th>p99</th>\n",
       "    </tr>\n",
       "  </thead>\n",
       "  <tbody>\n",
       "    <tr>\n",
       "      <th>0</th>\n",
       "      <td>iteration_136_owd</td>\n",
       "      <td>caller→callee</td>\n",
       "      <td>0</td>\n",
       "      <td>NaN</td>\n",
       "      <td>NaN</td>\n",
       "      <td>NaN</td>\n",
       "    </tr>\n",
       "    <tr>\n",
       "      <th>1</th>\n",
       "      <td>iteration_136_owd</td>\n",
       "      <td>callee→caller</td>\n",
       "      <td>0</td>\n",
       "      <td>NaN</td>\n",
       "      <td>NaN</td>\n",
       "      <td>NaN</td>\n",
       "    </tr>\n",
       "    <tr>\n",
       "      <th>2</th>\n",
       "      <td>iteration_330_owd</td>\n",
       "      <td>caller→callee</td>\n",
       "      <td>0</td>\n",
       "      <td>NaN</td>\n",
       "      <td>NaN</td>\n",
       "      <td>NaN</td>\n",
       "    </tr>\n",
       "    <tr>\n",
       "      <th>3</th>\n",
       "      <td>iteration_330_owd</td>\n",
       "      <td>callee→caller</td>\n",
       "      <td>0</td>\n",
       "      <td>NaN</td>\n",
       "      <td>NaN</td>\n",
       "      <td>NaN</td>\n",
       "    </tr>\n",
       "    <tr>\n",
       "      <th>4</th>\n",
       "      <td>iteration_319_owd</td>\n",
       "      <td>caller→callee</td>\n",
       "      <td>0</td>\n",
       "      <td>NaN</td>\n",
       "      <td>NaN</td>\n",
       "      <td>NaN</td>\n",
       "    </tr>\n",
       "  </tbody>\n",
       "</table>\n",
       "</div>"
      ],
      "text/plain": [
       "             call_id      direction  count  mean  std  p99\n",
       "0  iteration_136_owd  caller→callee      0   NaN  NaN  NaN\n",
       "1  iteration_136_owd  callee→caller      0   NaN  NaN  NaN\n",
       "2  iteration_330_owd  caller→callee      0   NaN  NaN  NaN\n",
       "3  iteration_330_owd  callee→caller      0   NaN  NaN  NaN\n",
       "4  iteration_319_owd  caller→callee      0   NaN  NaN  NaN"
      ]
     },
     "execution_count": 4,
     "metadata": {},
     "output_type": "execute_result"
    }
   ],
   "source": [
    "# Cell 3 ──────────────────────────────────────────────────────────\n",
    "STATS_FILE = Path(\"./owd_call_stats.csv\")   # <— change as needed\n",
    "assert STATS_FILE.exists(), f\"File not found: {STATS_FILE}\"\n",
    "\n",
    "df_all = pd.read_csv(STATS_FILE)\n",
    "df_all.head()\n"
   ]
  },
  {
   "cell_type": "code",
   "execution_count": 5,
   "id": "ae73d8f5-a5e5-43f7-b34f-55aa9a67bc4f",
   "metadata": {},
   "outputs": [
    {
     "name": "stdout",
     "output_type": "stream",
     "text": [
      "Loaded 46,942 rows for direction = both\n"
     ]
    }
   ],
   "source": [
    "# Cell 4 ──────────────────────────────────────────────────────────\n",
    "DIRECTION = \"both\"          # \"caller→callee\", \"callee→caller\", or \"both\"\n",
    "\n",
    "if DIRECTION.lower() != \"both\":\n",
    "    df = df_all[df_all[\"direction\"] == DIRECTION].copy()\n",
    "else:\n",
    "    df = df_all.copy()\n",
    "\n",
    "print(f\"Loaded {len(df):,} rows for direction = {DIRECTION}\")\n"
   ]
  },
  {
   "cell_type": "code",
   "execution_count": 6,
   "id": "6e532dec-bca8-4771-b426-0367eb9230de",
   "metadata": {},
   "outputs": [
    {
     "ename": "IndexError",
     "evalue": "index -1 is out of bounds for axis 0 with size 0",
     "output_type": "error",
     "traceback": [
      "\u001b[0;31m---------------------------------------------------------------------------\u001b[0m",
      "\u001b[0;31mIndexError\u001b[0m                                Traceback (most recent call last)",
      "Cell \u001b[0;32mIn[6], line 2\u001b[0m\n\u001b[1;32m      1\u001b[0m \u001b[38;5;66;03m# Cell 5 ──────────────────────────────────────────────────────────\u001b[39;00m\n\u001b[0;32m----> 2\u001b[0m df_clean, pct_removed \u001b[38;5;241m=\u001b[39m drop_outlier_calls(df, column\u001b[38;5;241m=\u001b[39m\u001b[38;5;124m\"\u001b[39m\u001b[38;5;124mp99\u001b[39m\u001b[38;5;124m\"\u001b[39m)\n\u001b[1;32m      3\u001b[0m p99 \u001b[38;5;241m=\u001b[39m df_clean[\u001b[38;5;124m\"\u001b[39m\u001b[38;5;124mp99\u001b[39m\u001b[38;5;124m\"\u001b[39m]\u001b[38;5;241m.\u001b[39mdropna()\n\u001b[1;32m      5\u001b[0m THRESH \u001b[38;5;241m=\u001b[39m \u001b[38;5;241m360\u001b[39m    \u001b[38;5;66;03m# ms QoE threshold\u001b[39;00m\n",
      "Cell \u001b[0;32mIn[2], line 9\u001b[0m, in \u001b[0;36mdrop_outlier_calls\u001b[0;34m(df, column)\u001b[0m\n\u001b[1;32m      3\u001b[0m \u001b[38;5;250m\u001b[39m\u001b[38;5;124;03m\"\"\"\u001b[39;00m\n\u001b[1;32m      4\u001b[0m \u001b[38;5;124;03mRemove calls whose per-call p99 is an outlier\u001b[39;00m\n\u001b[1;32m      5\u001b[0m \u001b[38;5;124;03m(outside Q1 ± 1.5 × IQR). Returns the cleaned DataFrame and\u001b[39;00m\n\u001b[1;32m      6\u001b[0m \u001b[38;5;124;03mthe percentage of calls removed.\u001b[39;00m\n\u001b[1;32m      7\u001b[0m \u001b[38;5;124;03m\"\"\"\u001b[39;00m\n\u001b[1;32m      8\u001b[0m series \u001b[38;5;241m=\u001b[39m df[column]\u001b[38;5;241m.\u001b[39mdropna()\n\u001b[0;32m----> 9\u001b[0m q1, q3 \u001b[38;5;241m=\u001b[39m np\u001b[38;5;241m.\u001b[39mpercentile(series, [\u001b[38;5;241m25\u001b[39m, \u001b[38;5;241m75\u001b[39m])\n\u001b[1;32m     10\u001b[0m iqr \u001b[38;5;241m=\u001b[39m q3 \u001b[38;5;241m-\u001b[39m q1\n\u001b[1;32m     11\u001b[0m low, high \u001b[38;5;241m=\u001b[39m q1 \u001b[38;5;241m-\u001b[39m \u001b[38;5;241m1.5\u001b[39m \u001b[38;5;241m*\u001b[39m iqr, q3 \u001b[38;5;241m+\u001b[39m \u001b[38;5;241m1.5\u001b[39m \u001b[38;5;241m*\u001b[39m iqr\n",
      "File \u001b[0;32m~/anaconda3/envs/voip-analysis/lib/python3.12/site-packages/numpy/lib/_function_base_impl.py:4273\u001b[0m, in \u001b[0;36mpercentile\u001b[0;34m(a, q, axis, out, overwrite_input, method, keepdims, weights, interpolation)\u001b[0m\n\u001b[1;32m   4270\u001b[0m     \u001b[38;5;28;01mif\u001b[39;00m np\u001b[38;5;241m.\u001b[39many(weights \u001b[38;5;241m<\u001b[39m \u001b[38;5;241m0\u001b[39m):\n\u001b[1;32m   4271\u001b[0m         \u001b[38;5;28;01mraise\u001b[39;00m \u001b[38;5;167;01mValueError\u001b[39;00m(\u001b[38;5;124m\"\u001b[39m\u001b[38;5;124mWeights must be non-negative.\u001b[39m\u001b[38;5;124m\"\u001b[39m)\n\u001b[0;32m-> 4273\u001b[0m \u001b[38;5;28;01mreturn\u001b[39;00m _quantile_unchecked(\n\u001b[1;32m   4274\u001b[0m     a, q, axis, out, overwrite_input, method, keepdims, weights)\n",
      "File \u001b[0;32m~/anaconda3/envs/voip-analysis/lib/python3.12/site-packages/numpy/lib/_function_base_impl.py:4550\u001b[0m, in \u001b[0;36m_quantile_unchecked\u001b[0;34m(a, q, axis, out, overwrite_input, method, keepdims, weights)\u001b[0m\n\u001b[1;32m   4541\u001b[0m \u001b[38;5;28;01mdef\u001b[39;00m \u001b[38;5;21m_quantile_unchecked\u001b[39m(a,\n\u001b[1;32m   4542\u001b[0m                         q,\n\u001b[1;32m   4543\u001b[0m                         axis\u001b[38;5;241m=\u001b[39m\u001b[38;5;28;01mNone\u001b[39;00m,\n\u001b[0;32m   (...)\u001b[0m\n\u001b[1;32m   4547\u001b[0m                         keepdims\u001b[38;5;241m=\u001b[39m\u001b[38;5;28;01mFalse\u001b[39;00m,\n\u001b[1;32m   4548\u001b[0m                         weights\u001b[38;5;241m=\u001b[39m\u001b[38;5;28;01mNone\u001b[39;00m):\n\u001b[1;32m   4549\u001b[0m \u001b[38;5;250m    \u001b[39m\u001b[38;5;124;03m\"\"\"Assumes that q is in [0, 1], and is an ndarray\"\"\"\u001b[39;00m\n\u001b[0;32m-> 4550\u001b[0m     \u001b[38;5;28;01mreturn\u001b[39;00m _ureduce(a,\n\u001b[1;32m   4551\u001b[0m                     func\u001b[38;5;241m=\u001b[39m_quantile_ureduce_func,\n\u001b[1;32m   4552\u001b[0m                     q\u001b[38;5;241m=\u001b[39mq,\n\u001b[1;32m   4553\u001b[0m                     weights\u001b[38;5;241m=\u001b[39mweights,\n\u001b[1;32m   4554\u001b[0m                     keepdims\u001b[38;5;241m=\u001b[39mkeepdims,\n\u001b[1;32m   4555\u001b[0m                     axis\u001b[38;5;241m=\u001b[39maxis,\n\u001b[1;32m   4556\u001b[0m                     out\u001b[38;5;241m=\u001b[39mout,\n\u001b[1;32m   4557\u001b[0m                     overwrite_input\u001b[38;5;241m=\u001b[39moverwrite_input,\n\u001b[1;32m   4558\u001b[0m                     method\u001b[38;5;241m=\u001b[39mmethod)\n",
      "File \u001b[0;32m~/anaconda3/envs/voip-analysis/lib/python3.12/site-packages/numpy/lib/_function_base_impl.py:3894\u001b[0m, in \u001b[0;36m_ureduce\u001b[0;34m(a, func, keepdims, **kwargs)\u001b[0m\n\u001b[1;32m   3891\u001b[0m             index_out \u001b[38;5;241m=\u001b[39m (\u001b[38;5;241m0\u001b[39m, ) \u001b[38;5;241m*\u001b[39m nd\n\u001b[1;32m   3892\u001b[0m             kwargs[\u001b[38;5;124m'\u001b[39m\u001b[38;5;124mout\u001b[39m\u001b[38;5;124m'\u001b[39m] \u001b[38;5;241m=\u001b[39m out[(\u001b[38;5;28mEllipsis\u001b[39m, ) \u001b[38;5;241m+\u001b[39m index_out]\n\u001b[0;32m-> 3894\u001b[0m r \u001b[38;5;241m=\u001b[39m func(a, \u001b[38;5;241m*\u001b[39m\u001b[38;5;241m*\u001b[39mkwargs)\n\u001b[1;32m   3896\u001b[0m \u001b[38;5;28;01mif\u001b[39;00m out \u001b[38;5;129;01mis\u001b[39;00m \u001b[38;5;129;01mnot\u001b[39;00m \u001b[38;5;28;01mNone\u001b[39;00m:\n\u001b[1;32m   3897\u001b[0m     \u001b[38;5;28;01mreturn\u001b[39;00m out\n",
      "File \u001b[0;32m~/anaconda3/envs/voip-analysis/lib/python3.12/site-packages/numpy/lib/_function_base_impl.py:4727\u001b[0m, in \u001b[0;36m_quantile_ureduce_func\u001b[0;34m(a, q, weights, axis, out, overwrite_input, method)\u001b[0m\n\u001b[1;32m   4725\u001b[0m         arr \u001b[38;5;241m=\u001b[39m a\u001b[38;5;241m.\u001b[39mcopy()\n\u001b[1;32m   4726\u001b[0m         wgt \u001b[38;5;241m=\u001b[39m weights\n\u001b[0;32m-> 4727\u001b[0m result \u001b[38;5;241m=\u001b[39m _quantile(arr,\n\u001b[1;32m   4728\u001b[0m                    quantiles\u001b[38;5;241m=\u001b[39mq,\n\u001b[1;32m   4729\u001b[0m                    axis\u001b[38;5;241m=\u001b[39maxis,\n\u001b[1;32m   4730\u001b[0m                    method\u001b[38;5;241m=\u001b[39mmethod,\n\u001b[1;32m   4731\u001b[0m                    out\u001b[38;5;241m=\u001b[39mout,\n\u001b[1;32m   4732\u001b[0m                    weights\u001b[38;5;241m=\u001b[39mwgt)\n\u001b[1;32m   4733\u001b[0m \u001b[38;5;28;01mreturn\u001b[39;00m result\n",
      "File \u001b[0;32m~/anaconda3/envs/voip-analysis/lib/python3.12/site-packages/numpy/lib/_function_base_impl.py:4849\u001b[0m, in \u001b[0;36m_quantile\u001b[0;34m(arr, quantiles, axis, method, out, weights)\u001b[0m\n\u001b[1;32m   4842\u001b[0m arr\u001b[38;5;241m.\u001b[39mpartition(\n\u001b[1;32m   4843\u001b[0m     np\u001b[38;5;241m.\u001b[39munique(np\u001b[38;5;241m.\u001b[39mconcatenate(([\u001b[38;5;241m0\u001b[39m, \u001b[38;5;241m-\u001b[39m\u001b[38;5;241m1\u001b[39m],\n\u001b[1;32m   4844\u001b[0m                               previous_indexes\u001b[38;5;241m.\u001b[39mravel(),\n\u001b[1;32m   4845\u001b[0m                               next_indexes\u001b[38;5;241m.\u001b[39mravel(),\n\u001b[1;32m   4846\u001b[0m                               ))),\n\u001b[1;32m   4847\u001b[0m     axis\u001b[38;5;241m=\u001b[39m\u001b[38;5;241m0\u001b[39m)\n\u001b[1;32m   4848\u001b[0m \u001b[38;5;28;01mif\u001b[39;00m supports_nans:\n\u001b[0;32m-> 4849\u001b[0m     slices_having_nans \u001b[38;5;241m=\u001b[39m np\u001b[38;5;241m.\u001b[39misnan(arr[\u001b[38;5;241m-\u001b[39m\u001b[38;5;241m1\u001b[39m, \u001b[38;5;241m.\u001b[39m\u001b[38;5;241m.\u001b[39m\u001b[38;5;241m.\u001b[39m])\n\u001b[1;32m   4850\u001b[0m \u001b[38;5;28;01melse\u001b[39;00m:\n\u001b[1;32m   4851\u001b[0m     slices_having_nans \u001b[38;5;241m=\u001b[39m \u001b[38;5;28;01mNone\u001b[39;00m\n",
      "\u001b[0;31mIndexError\u001b[0m: index -1 is out of bounds for axis 0 with size 0"
     ]
    }
   ],
   "source": [
    "# Cell 5 ──────────────────────────────────────────────────────────\n",
    "df_clean, pct_removed = drop_outlier_calls(df, column=\"p99\")\n",
    "p99 = df_clean[\"p99\"].dropna()\n",
    "\n",
    "THRESH = 360    # ms QoE threshold\n",
    "\n",
    "summary = {\n",
    "    \"Calls before filter\": len(df),\n",
    "    \"Calls after filter\" : len(df_clean),\n",
    "    \"% calls removed\"    : f\"{pct_removed:.2f} %\",\n",
    "    \"Mean p99 (ms)\"      : p99.mean(),\n",
    "    \"Median p99 (ms)\"    : p99.median(),\n",
    "    \"Std p99 (ms)\"       : p99.std(),\n",
    "    \"95th p99 (ms)\"      : np.percentile(p99, 95),\n",
    "    \"99th p99 (ms)\"      : np.percentile(p99, 99),\n",
    "    f\"% calls p99 > {THRESH} ms\": (p99 > THRESH).mean() * 100,\n",
    "}\n",
    "\n",
    "print(\"\\nAggregate statistics (per-call p99, outliers removed)\\n\" +\n",
    "      \"──────────────────────────────────────────────────────\")\n",
    "for k, v in summary.items():\n",
    "    print(f\"{k:>24}: {v:,.2f}\" if isinstance(v, float) else f\"{k:>24}: {v}\")\n"
   ]
  },
  {
   "cell_type": "code",
   "execution_count": null,
   "id": "0f39b713-452d-4895-8ff4-a5d7a10db682",
   "metadata": {},
   "outputs": [],
   "source": []
  }
 ],
 "metadata": {
  "kernelspec": {
   "display_name": "Python 3 (ipykernel)",
   "language": "python",
   "name": "python3"
  },
  "language_info": {
   "codemirror_mode": {
    "name": "ipython",
    "version": 3
   },
   "file_extension": ".py",
   "mimetype": "text/x-python",
   "name": "python",
   "nbconvert_exporter": "python",
   "pygments_lexer": "ipython3",
   "version": "3.12.2"
  }
 },
 "nbformat": 4,
 "nbformat_minor": 5
}
