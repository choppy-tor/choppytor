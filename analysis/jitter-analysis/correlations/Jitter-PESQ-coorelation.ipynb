{
 "cells": [
  {
   "cell_type": "code",
   "execution_count": 19,
   "id": "fb05c04f-9322-4300-8862-f2198f68d398",
   "metadata": {},
   "outputs": [
    {
     "name": "stdout",
     "output_type": "stream",
     "text": [
      "Remaining rows after cleaning: 26289\n"
     ]
    }
   ],
   "source": [
    "import pandas as pd\n",
    "\n",
    "# Replace with your file path\n",
    "file_path = \"../../../data/final-tor-2.csv\"\n",
    "\n",
    "# Load CSV, treating \"N/A\" and similar as NaN\n",
    "na_values = [\"N/A\", \"n/a\", \"NA\", \"na\", \"Null\", \"null\", \"\", \" \"]\n",
    "df = pd.read_csv(file_path, na_values=na_values)\n",
    "\n",
    "# Ensure key columns are numeric\n",
    "cols = [\"caller_pesq_mos\", \"caller_jitter_std_dev\", \"callee_pesq_mos\", \"callee_jitter_std_dev\"]\n",
    "for col in cols:\n",
    "    if col in df.columns:\n",
    "        df[col] = pd.to_numeric(df[col], errors=\"coerce\")\n",
    "\n",
    "# Drop rows with NaN in key columns\n",
    "df = df.dropna(subset=cols)\n",
    "\n",
    "# (Optional) Drop rows with zeros in key columns\n",
    "df = df[(df[\"caller_pesq_mos\"] != 0) &\n",
    "        (df[\"caller_jitter_std_dev\"] != 0) &\n",
    "        (df[\"callee_pesq_mos\"] != 0) &\n",
    "        (df[\"callee_jitter_std_dev\"] != 0)]\n",
    "\n",
    "print(f\"Remaining rows after cleaning: {len(df)}\")\n"
   ]
  },
  {
   "cell_type": "code",
   "execution_count": 20,
   "id": "a11d5d10-0425-4bbb-acbf-feb1f1ec08ed",
   "metadata": {},
   "outputs": [
    {
     "data": {
      "text/plain": [
       "{'Caller': {'Pearson': np.float64(-0.4125983799274007),\n",
       "  'Spearman': np.float64(-0.6593132016742744),\n",
       "  'Kendall': np.float64(-0.47469690729659225)},\n",
       " 'Callee': {'Pearson': np.float64(-0.3466228584072197),\n",
       "  'Spearman': np.float64(-0.581313699883719),\n",
       "  'Kendall': np.float64(-0.4337983281627414)}}"
      ]
     },
     "execution_count": 20,
     "metadata": {},
     "output_type": "execute_result"
    }
   ],
   "source": [
    "results = {}\n",
    "\n",
    "# Caller correlations\n",
    "results[\"Caller\"] = {\n",
    "    \"Pearson\": df[\"caller_pesq_mos\"].corr(df[\"caller_jitter_std_dev\"], method=\"pearson\"),\n",
    "    \"Spearman\": df[\"caller_pesq_mos\"].corr(df[\"caller_jitter_std_dev\"], method=\"spearman\"),\n",
    "    \"Kendall\": df[\"caller_pesq_mos\"].corr(df[\"caller_jitter_std_dev\"], method=\"kendall\"),\n",
    "}\n",
    "\n",
    "# Callee correlations\n",
    "results[\"Callee\"] = {\n",
    "    \"Pearson\": df[\"callee_pesq_mos\"].corr(df[\"callee_jitter_std_dev\"], method=\"pearson\"),\n",
    "    \"Spearman\": df[\"callee_pesq_mos\"].corr(df[\"callee_jitter_std_dev\"], method=\"spearman\"),\n",
    "    \"Kendall\": df[\"callee_pesq_mos\"].corr(df[\"callee_jitter_std_dev\"], method=\"kendall\"),\n",
    "}\n",
    "\n",
    "results\n"
   ]
  },
  {
   "cell_type": "code",
   "execution_count": 21,
   "id": "0914ee9a-9583-4c43-9eca-aa197000d3c0",
   "metadata": {},
   "outputs": [
    {
     "data": {
      "text/plain": [
       "{'Pearson': np.float64(-0.369755136893797),\n",
       " 'Spearman': np.float64(-0.6096124580346292),\n",
       " 'Kendall': np.float64(-0.44380848603235235)}"
      ]
     },
     "execution_count": 21,
     "metadata": {},
     "output_type": "execute_result"
    }
   ],
   "source": [
    "# Combine caller + callee into one dataset\n",
    "combined = pd.DataFrame({\n",
    "    \"pesq_mos\": pd.concat([df[\"caller_pesq_mos\"], df[\"callee_pesq_mos\"]], ignore_index=True),\n",
    "    \"jitter_std_dev\": pd.concat([df[\"caller_jitter_std_dev\"], df[\"callee_jitter_std_dev\"]], ignore_index=True)\n",
    "})\n",
    "\n",
    "# Calculate correlations\n",
    "combined_corrs = {\n",
    "    \"Pearson\": combined[\"pesq_mos\"].corr(combined[\"jitter_std_dev\"], method=\"pearson\"),\n",
    "    \"Spearman\": combined[\"pesq_mos\"].corr(combined[\"jitter_std_dev\"], method=\"spearman\"),\n",
    "    \"Kendall\": combined[\"pesq_mos\"].corr(combined[\"jitter_std_dev\"], method=\"kendall\"),\n",
    "}\n",
    "\n",
    "combined_corrs"
   ]
  },
  {
   "cell_type": "code",
   "execution_count": null,
   "id": "75f4f7b1-df3b-49b6-9600-08102cc9d596",
   "metadata": {},
   "outputs": [],
   "source": []
  }
 ],
 "metadata": {
  "kernelspec": {
   "display_name": "Python 3 (ipykernel)",
   "language": "python",
   "name": "python3"
  },
  "language_info": {
   "codemirror_mode": {
    "name": "ipython",
    "version": 3
   },
   "file_extension": ".py",
   "mimetype": "text/x-python",
   "name": "python",
   "nbconvert_exporter": "python",
   "pygments_lexer": "ipython3",
   "version": "3.12.2"
  }
 },
 "nbformat": 4,
 "nbformat_minor": 5
}
