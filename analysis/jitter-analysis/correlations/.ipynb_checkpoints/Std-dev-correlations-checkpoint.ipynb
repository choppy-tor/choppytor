{
 "cells": [
  {
   "cell_type": "code",
   "execution_count": 4,
   "id": "2059cf12-e987-4cdc-b2d7-1dcf0e00d029",
   "metadata": {},
   "outputs": [
    {
     "name": "stdout",
     "output_type": "stream",
     "text": [
      "\n",
      "Correlation between caller_pesq_mos and caller_jitter_std_dev:\n",
      "  Spearman: -0.6704\n",
      "\n",
      "Correlation between callee_pesq_mos and callee_jitter_std_dev:\n",
      "  Spearman: -0.7745\n",
      "\n",
      "Correlation between caller_pesq_mos and caller_delay_std_dev:\n",
      "  Spearman: -0.8231\n",
      "\n",
      "Correlation between callee_pesq_mos and callee_delay_std_dev:\n",
      "  Spearman: -0.7868\n"
     ]
    }
   ],
   "source": [
    "import pandas as pd\n",
    "\n",
    "# Replace this with your actual CSV path\n",
    "csv_file = \"/home/jithin/data/IMC/NewData/Tor/combined_results.csv\"\n",
    "\n",
    "# Load the CSV\n",
    "df = pd.read_csv(csv_file)\n",
    "\n",
    "# Relevant columns\n",
    "cols = [\n",
    "    \"caller_pesq_mos\", \"callee_pesq_mos\",\n",
    "    \"caller_jitter_std_dev\", \"callee_jitter_std_dev\",\n",
    "    \"caller_delay_std_dev\", \"callee_delay_std_dev\"\n",
    "]\n",
    "\n",
    "# Convert to numeric and remove rows with NaN or zero values\n",
    "df[cols] = df[cols].apply(pd.to_numeric, errors='coerce')\n",
    "df_clean = df[(df[cols] != 0).all(axis=1)].dropna(subset=cols)\n",
    "\n",
    "# Pairs to analyze\n",
    "pairs = [\n",
    "    (\"caller_pesq_mos\", \"caller_jitter_std_dev\"),\n",
    "    (\"callee_pesq_mos\", \"callee_jitter_std_dev\"),\n",
    "    (\"caller_pesq_mos\", \"caller_delay_std_dev\"),\n",
    "    (\"callee_pesq_mos\", \"callee_delay_std_dev\")\n",
    "]\n",
    "\n",
    "# Compute and print all correlation coefficients\n",
    "for x, y in pairs:\n",
    "    print(f\"\\nCorrelation between {x} and {y}:\")\n",
    "    pearson = df_clean[x].corr(df_clean[y], method='pearson')\n",
    "    spearman = df_clean[x].corr(df_clean[y], method='spearman')\n",
    "    kendall = df_clean[x].corr(df_clean[y], method='kendall')\n",
    "\n",
    "    # print(f\"  Pearson : {pearson:.4f}\")\n",
    "    print(f\"  Spearman: {spearman:.4f}\")\n",
    "    # print(f\"  Kendall : {kendall:.4f}\")"
   ]
  },
  {
   "cell_type": "code",
   "execution_count": null,
   "id": "fe92b4b4-129a-4584-b4f3-53c94c7c55d4",
   "metadata": {},
   "outputs": [],
   "source": []
  }
 ],
 "metadata": {
  "kernelspec": {
   "display_name": "Python 3 (ipykernel)",
   "language": "python",
   "name": "python3"
  },
  "language_info": {
   "codemirror_mode": {
    "name": "ipython",
    "version": 3
   },
   "file_extension": ".py",
   "mimetype": "text/x-python",
   "name": "python",
   "nbconvert_exporter": "python",
   "pygments_lexer": "ipython3",
   "version": "3.12.2"
  }
 },
 "nbformat": 4,
 "nbformat_minor": 5
}
