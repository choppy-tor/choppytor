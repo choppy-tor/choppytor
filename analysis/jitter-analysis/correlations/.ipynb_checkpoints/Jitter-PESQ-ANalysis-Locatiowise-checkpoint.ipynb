{
 "cells": [
  {
   "cell_type": "code",
   "execution_count": 6,
   "id": "253c60c5-3bf4-4eed-abe1-1f58f82125c7",
   "metadata": {},
   "outputs": [
    {
     "name": "stdout",
     "output_type": "stream",
     "text": [
      "PESQ & Jitter Summary (Locations with ≥ 100 samples):\n",
      "\n",
      "\n",
      "Saved to pesq_jitter_summary_by_location.csv\n",
      "          Location  Count  PESQ Min  PESQ Max  PESQ Mean  Jitter Std Dev Min  Jitter Std Dev Max  Jitter Std Dev Mean  Jitter Mean Min  Jitter Mean Max  Jitter Mean Avg\n",
      "      5sans-amster   5092      0.00      4.49       2.61                1.21              387.78                 5.93             1.22           295.35            26.68\n",
      "     2sydney-frank   5085      0.00      4.47       2.48                1.87               79.82                 7.32            20.83            68.57            27.45\n",
      "       1Frank-Lond   4996      0.00      4.42       2.59                1.39              422.71                 8.97             2.45           262.10            21.86\n",
      "        3Bangl-nyc   4772      0.00      4.49       2.50                1.90              104.75                 4.93            16.73           117.21            28.15\n",
      "    4singapore-nyc   4667      0.00      4.46       2.35                1.94              277.50                 9.80            19.99           323.07            29.56\n",
      "   7CapeTown-Seoul   2991      0.00      4.43       1.71                2.12               77.47                12.04            22.89            93.98            37.40\n",
      "   8Jakarta-Mexico   2617      0.00      4.46       2.57                1.21              294.63                 7.19             1.22           281.74            30.69\n",
      "10SauPaul-malaysia   2000      0.00      4.44       2.64                1.88              113.05                 6.08            23.24            68.85            29.62\n",
      "          6nyc-syd   1999      1.10      4.46       2.33                1.78              109.79                 7.95            22.52            59.85            31.15\n",
      "        9Osaka-UAE   1998      0.00      3.96       2.65                2.54               62.51                 6.42            23.70            50.44            30.38\n",
      " 11TelAviv-Sydney3   1597      1.13      3.37       2.37                2.28              103.17                 7.26             7.52            62.77            30.34\n",
      "           Test-VM    998      1.09      3.38       2.45                3.03              348.51                 8.06            22.58           381.39            29.55\n"
     ]
    }
   ],
   "source": [
    "import pandas as pd\n",
    "\n",
    "# Load data\n",
    "df = pd.read_csv(\"../super-tor.csv\")\n",
    "\n",
    "# Prepare results container\n",
    "results = []\n",
    "\n",
    "# Process each location\n",
    "for location, group in df.groupby(\"location\"):\n",
    "    # Merge caller and callee metrics\n",
    "    pesq_vals = pd.concat([group[\"caller_pesq_mos\"], group[\"callee_pesq_mos\"]], ignore_index=True).dropna()\n",
    "    jitter_std_vals = pd.concat([group[\"caller_jitter_std_dev\"], group[\"callee_jitter_std_dev\"]], ignore_index=True).dropna()\n",
    "    jitter_mean_vals = pd.concat([group[\"caller_jitter_mean\"], group[\"callee_jitter_mean\"]], ignore_index=True).dropna()\n",
    "\n",
    "    # Take smallest shared sample count\n",
    "    total_calls = min(len(pesq_vals), len(jitter_std_vals), len(jitter_mean_vals))\n",
    "\n",
    "    if total_calls < 100:\n",
    "        continue\n",
    "\n",
    "    # Truncate to match count\n",
    "    pesq_vals = pesq_vals.iloc[:total_calls]\n",
    "    jitter_std_vals = jitter_std_vals.iloc[:total_calls]\n",
    "    jitter_mean_vals = jitter_mean_vals.iloc[:total_calls]\n",
    "\n",
    "    # Append stats\n",
    "    results.append({\n",
    "        \"Location\": location,\n",
    "        \"Count\": total_calls,\n",
    "        \"PESQ Min\": round(pesq_vals.min(), 2),\n",
    "        \"PESQ Max\": round(pesq_vals.max(), 2),\n",
    "        \"PESQ Mean\": round(pesq_vals.mean(), 2),\n",
    "        \"Jitter Std Dev Min\": round(jitter_std_vals.min(), 2),\n",
    "        \"Jitter Std Dev Max\": round(jitter_std_vals.max(), 2),\n",
    "        \"Jitter Std Dev Mean\": round(jitter_std_vals.mean(), 2),\n",
    "        \"Jitter Mean Min\": round(jitter_mean_vals.min(), 2),\n",
    "        \"Jitter Mean Max\": round(jitter_mean_vals.max(), 2),\n",
    "        \"Jitter Mean Avg\": round(jitter_mean_vals.mean(), 2)\n",
    "    })\n",
    "\n",
    "# Create DataFrame and sort\n",
    "summary_df = pd.DataFrame(results).sort_values(by=\"Count\", ascending=False)\n",
    "\n",
    "# Display results\n",
    "print(\"PESQ & Jitter Summary (Locations with ≥ 100 samples):\\n\")\n",
    "summary_df.to_csv(\"pesq_jitter_summary_by_location.csv\", index=False)\n",
    "print(\"\\nSaved to pesq_jitter_summary_by_location.csv\")\n",
    "print(summary_df.to_string(index=False))\n",
    "\n"
   ]
  },
  {
   "cell_type": "code",
   "execution_count": null,
   "id": "7475132c-1f2a-44ac-8f7b-26dba661581b",
   "metadata": {},
   "outputs": [],
   "source": []
  }
 ],
 "metadata": {
  "kernelspec": {
   "display_name": "Python 3 (ipykernel)",
   "language": "python",
   "name": "python3"
  },
  "language_info": {
   "codemirror_mode": {
    "name": "ipython",
    "version": 3
   },
   "file_extension": ".py",
   "mimetype": "text/x-python",
   "name": "python",
   "nbconvert_exporter": "python",
   "pygments_lexer": "ipython3",
   "version": "3.12.2"
  }
 },
 "nbformat": 4,
 "nbformat_minor": 5
}
